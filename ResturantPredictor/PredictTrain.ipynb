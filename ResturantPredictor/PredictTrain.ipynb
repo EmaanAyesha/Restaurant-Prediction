{
 "cells": [
  {
   "cell_type": "code",
   "execution_count": 88,
   "metadata": {},
   "outputs": [],
   "source": [
    "import matplotlib.pyplot as plt\n",
    "import numpy as np\n",
    "import pandas as pd\n",
    "import seaborn as sb\n",
    "import seaborn as sns\n",
    "\n"
   ]
  },
  {
   "cell_type": "code",
   "execution_count": 89,
   "metadata": {},
   "outputs": [],
   "source": [
    "from sklearn.metrics.pairwise import linear_kernel\n",
    "from sklearn.feature_extraction.text import CountVectorizer, TfidfVectorizer\n",
    "from nltk.corpus import stopwords\n",
    "import plotly.offline as py\n",
    "import plotly.graph_objs as go\n",
    "import warnings\n",
    "warnings.filterwarnings('always')\n",
    "warnings.filterwarnings('ignore')\n"
   ]
  },
  {
   "cell_type": "code",
   "execution_count": 90,
   "metadata": {},
   "outputs": [
    {
     "data": {
      "text/html": [
       "<div>\n",
       "<style scoped>\n",
       "    .dataframe tbody tr th:only-of-type {\n",
       "        vertical-align: middle;\n",
       "    }\n",
       "\n",
       "    .dataframe tbody tr th {\n",
       "        vertical-align: top;\n",
       "    }\n",
       "\n",
       "    .dataframe thead th {\n",
       "        text-align: right;\n",
       "    }\n",
       "</style>\n",
       "<table border=\"1\" class=\"dataframe\">\n",
       "  <thead>\n",
       "    <tr style=\"text-align: right;\">\n",
       "      <th></th>\n",
       "      <th>U_id</th>\n",
       "      <th>Id</th>\n",
       "      <th>Address</th>\n",
       "      <th>Name</th>\n",
       "      <th>Online_Order</th>\n",
       "      <th>Book_Table</th>\n",
       "      <th>Rating</th>\n",
       "      <th>Contact</th>\n",
       "      <th>Location</th>\n",
       "      <th>Restaurant_Type</th>\n",
       "      <th>Cuisines</th>\n",
       "      <th>Approx_Cost(For 2 Persons)</th>\n",
       "      <th>Approx_Cost(For 4 Persons)</th>\n",
       "      <th>Approx_Cost(For 6 Persons)</th>\n",
       "      <th>Approx_Cost(For 8 Persons)</th>\n",
       "      <th>Approx_Cost(For 10 Persons)</th>\n",
       "      <th>Listed(Type)</th>\n",
       "      <th>Listed(City)</th>\n",
       "      <th>Category_Type</th>\n",
       "    </tr>\n",
       "  </thead>\n",
       "  <tbody>\n",
       "    <tr>\n",
       "      <th>0</th>\n",
       "      <td>1</td>\n",
       "      <td>1</td>\n",
       "      <td>10/A, M.A.C.H.S? Main Shahrah-e-Faisal Rd, Moh...</td>\n",
       "      <td>LalQila Restaurant Karachi</td>\n",
       "      <td>Yes</td>\n",
       "      <td>Yes</td>\n",
       "      <td>4.2</td>\n",
       "      <td>021-111525745</td>\n",
       "      <td>Mohammad Ali Society</td>\n",
       "      <td>Buffet,\\nhi-tea</td>\n",
       "      <td>Seafood</td>\n",
       "      <td>3500</td>\n",
       "      <td>7000</td>\n",
       "      <td>10000</td>\n",
       "      <td>14000</td>\n",
       "      <td>18000</td>\n",
       "      <td>\\nDinner</td>\n",
       "      <td>Karachi</td>\n",
       "      <td>Friends</td>\n",
       "    </tr>\n",
       "    <tr>\n",
       "      <th>1</th>\n",
       "      <td>2</td>\n",
       "      <td>2</td>\n",
       "      <td>10/A, M.A.C.H.S? Main Shahrah-e-Faisal Rd, Moh...</td>\n",
       "      <td>LalQila Restaurant Karachi</td>\n",
       "      <td>Yes</td>\n",
       "      <td>Yes</td>\n",
       "      <td>4.2</td>\n",
       "      <td>021-111525745</td>\n",
       "      <td>Mohammad Ali Society</td>\n",
       "      <td>Buffet,\\nhi-tea</td>\n",
       "      <td>Continental</td>\n",
       "      <td>3500</td>\n",
       "      <td>7000</td>\n",
       "      <td>10000</td>\n",
       "      <td>14000</td>\n",
       "      <td>18000</td>\n",
       "      <td>Lunch</td>\n",
       "      <td>Karachi</td>\n",
       "      <td>Friends</td>\n",
       "    </tr>\n",
       "  </tbody>\n",
       "</table>\n",
       "</div>"
      ],
      "text/plain": [
       "   U_id  Id                                            Address  \\\n",
       "0     1   1  10/A, M.A.C.H.S? Main Shahrah-e-Faisal Rd, Moh...   \n",
       "1     2   2  10/A, M.A.C.H.S? Main Shahrah-e-Faisal Rd, Moh...   \n",
       "\n",
       "                         Name Online_Order Book_Table  Rating        Contact  \\\n",
       "0  LalQila Restaurant Karachi          Yes        Yes     4.2  021-111525745   \n",
       "1  LalQila Restaurant Karachi          Yes        Yes     4.2  021-111525745   \n",
       "\n",
       "               Location  Restaurant_Type     Cuisines  \\\n",
       "0  Mohammad Ali Society  Buffet,\\nhi-tea      Seafood   \n",
       "1  Mohammad Ali Society  Buffet,\\nhi-tea  Continental   \n",
       "\n",
       "   Approx_Cost(For 2 Persons)  Approx_Cost(For 4 Persons)  \\\n",
       "0                        3500                        7000   \n",
       "1                        3500                        7000   \n",
       "\n",
       "   Approx_Cost(For 6 Persons)  Approx_Cost(For 8 Persons)  \\\n",
       "0                       10000                       14000   \n",
       "1                       10000                       14000   \n",
       "\n",
       "   Approx_Cost(For 10 Persons) Listed(Type) Listed(City) Category_Type  \n",
       "0                        18000     \\nDinner      Karachi       Friends  \n",
       "1                        18000        Lunch      Karachi       Friends  "
      ]
     },
     "execution_count": 90,
     "metadata": {},
     "output_type": "execute_result"
    }
   ],
   "source": [
    "resturant_data=pd.read_csv(\"E:\\ResturantPredictor\\Restaurants_DataSet.csv\")\n",
    "resturant_df=resturant_data.copy()\n",
    "resturant_df.head(2)"
   ]
  },
  {
   "cell_type": "code",
   "execution_count": null,
   "metadata": {},
   "outputs": [],
   "source": []
  },
  {
   "cell_type": "code",
   "execution_count": null,
   "metadata": {},
   "outputs": [],
   "source": []
  },
  {
   "cell_type": "code",
   "execution_count": 44,
   "metadata": {},
   "outputs": [],
   "source": [
    "#Dropping the column \"dish_liked\", \"phone\", \"url\"\n",
    "resturant_df=resturant_df.drop(['Contact'],axis=1)\n",
    "#Removing the Duplicates\n",
    "resturant_df.duplicated().sum()\n",
    "resturant_df.drop_duplicates(inplace=True)\n",
    "#Changing the column names\n",
    "resturant_df = resturant_df.rename(columns={'Approx_Cost(For 2 Persons)': 'cost1', 'Approx_Cost(For 4 Persons)': 'cost2',\n",
    "                                   'Approx_Cost(For 6 Persons)': 'cost3', 'Approx_Cost(For 8 Persons)': 'cost4', 'Approx_Cost(For 10 Persons)': 'cost5', 'Listed(Type)': 'type', 'Listed(City)': 'city'})\n",
    "#Changing the cost to string\n",
    "resturant_df['cost1'] = resturant_df['cost1'].astype(str) \n",
    "resturant_df['cost1'] = resturant_df['cost1'].apply(lambda x: x.replace(',','.'))\n",
    "resturant_df['cost1'] = resturant_df['cost1'].astype(float)\n",
    "resturant_df['cost2'] = resturant_df['cost2'].astype(str) \n",
    "resturant_df['cost2'] = resturant_df['cost2'].apply(lambda x: x.replace(',','.'))\n",
    "resturant_df['cost2'] = resturant_df['cost2'].astype(float)\n",
    "resturant_df['cost3'] = resturant_df['cost3'].astype(str)\n",
    "resturant_df['cost3'] = resturant_df['cost3'].apply(lambda x: x.replace(',', '.'))\n",
    "resturant_df['cost3'] = resturant_df['cost3'].astype(float)\n",
    "resturant_df['cost4'] = resturant_df['cost4'].astype(str)\n",
    "resturant_df['cost4'] = resturant_df['cost4'].apply(\n",
    "    lambda x: x.replace(',', '.'))\n",
    "resturant_df['cost4'] = resturant_df['cost4'].astype(float)\n",
    "resturant_df['cost5'] = resturant_df['cost5'].astype(str)\n",
    "resturant_df['cost5'] = resturant_df['cost5'].apply(\n",
    "    lambda x: x.replace(',', '.'))\n",
    "resturant_df['cost5'] = resturant_df['cost5'].astype(float)\n"
   ]
  },
  {
   "cell_type": "code",
   "execution_count": 45,
   "metadata": {},
   "outputs": [],
   "source": [
    "## Computing Mean Rating\n",
    "from sklearn.preprocessing import MinMaxScaler\n",
    "restaurants = list(resturant_df['Name'].unique())\n",
    "resturant_df['Mean Rating'] = 0\n",
    "for i in range(len(restaurants)):\n",
    "    resturant_df['Mean Rating'][resturant_df['Name'] == restaurants[i]\n",
    "                             ] = resturant_df['Rating'][resturant_df['Name'] == restaurants[i]].mean()\n",
    "#Scaling the mean rating values\n",
    "scaler = MinMaxScaler(feature_range=(1, 5))\n",
    "resturant_df[['Mean Rating']] = scaler.fit_transform(\n",
    "    resturant_df[['Mean Rating']]).round(2)\n"
   ]
  },
  {
   "cell_type": "code",
   "execution_count": 46,
   "metadata": {},
   "outputs": [
    {
     "data": {
      "text/plain": [
       "<bound method NDFrame.head of     U_id  Id                        Name  Rating  Mean Rating\n",
       "0      1   1  LalQila Restaurant Karachi     4.2         2.33\n",
       "1      2   2  LalQila Restaurant Karachi     4.2         2.33\n",
       "2      3   3  LalQila Restaurant Karachi     4.2         2.33\n",
       "3      4   1  LalQila Restaurant Karachi     4.2         2.33\n",
       "4      5   1  LalQila Restaurant Karachi     4.2         2.33\n",
       "..   ...  ..                         ...     ...          ...\n",
       "89    90  27                Studio 7teas     4.3         2.67\n",
       "90    91  28                 Cafe Piyala     4.3         2.67\n",
       "91    92  28                 Cafe Piyala     4.3         2.67\n",
       "92    93  29               The Soda shop     4.9         4.67\n",
       "93    94  30           CO2 The Soda Shop     5.0         5.00\n",
       "\n",
       "[94 rows x 5 columns]>"
      ]
     },
     "execution_count": 46,
     "metadata": {},
     "output_type": "execute_result"
    }
   ],
   "source": [
    "resturant_df[['U_id','Id','Name','Rating','Mean Rating']].head"
   ]
  },
  {
   "cell_type": "code",
   "execution_count": 47,
   "metadata": {},
   "outputs": [
    {
     "data": {
      "text/plain": [
       "Text(0.5, 1.0, 'Top Rated 10 Restaurants')"
      ]
     },
     "execution_count": 47,
     "metadata": {},
     "output_type": "execute_result"
    },
    {
     "data": {
      "image/png": "[encoded data removed]",
      "text/plain": [
       "<Figure size 800x500 with 1 Axes>"
      ]
     },
     "metadata": {},
     "output_type": "display_data"
    },
    {
     "data": {
      "image/png": "[encoded data removed]",
      "text/plain": [
       "<Figure size 1500x500 with 1 Axes>"
      ]
     },
     "metadata": {},
     "output_type": "display_data"
    },
    {
     "data": {
      "image/png": "[encoded data removed]",
      "text/plain": [
       "<Figure size 700x500 with 1 Axes>"
      ]
     },
     "metadata": {},
     "output_type": "display_data"
    }
   ],
   "source": [
    "#Most Famous restaurant chains in Banglore\n",
    "plt.figure(figsize=(8,5))\n",
    "chains=resturant_df['Name'].value_counts()[:10]\n",
    "sns.barplot(x=chains,y=chains.index,palette='deep')\n",
    "plt.title(\"Most famous restaurants in Karachi\")\n",
    "zplt.xlabel(\"Number of outlets\")\n",
    "#Types of Restaurant\n",
    "counts = resturant_df[\"Category_Type\"].value_counts()[:10] \n",
    "p = counts.sort_values().plot.barh(figsize=(8,5), fontsize=18) \n",
    "p.set_xlabel(\"Number of Restaurant\",fontsize=18) \n",
    "p.set_ylabel(\"Restaurant Type\",fontsize=18)\n",
    "p.set_title(\"Types of Restaurant\", fontsize=20)\n",
    "#Distribution of Restaurant Rating \n",
    "fig, ax = plt.subplots(nrows=1, ncols=1, figsize=(15, 5))\n",
    "sns.distplot(resturant_df.Rating,kde=False,color = 'g',ax =ax,bins=20)\n",
    "ax.axvline(resturant_df.Rating.mean(), 0, 1, color='r', label='Mean')\n",
    "ax.legend()\n",
    "ax.set_ylabel('count',size=20)\n",
    "ax.set_xlabel('Rating',size=20)\n",
    "ax.set_title('Distribution(count) of Restaurant rating',size=20)\n",
    "# Top 10 Rated Restaurants\n",
    "df_rating = resturant_df.drop_duplicates(subset='Name')\n",
    "df_rating = df_rating.sort_values(by='Mean Rating', ascending=False).head(10)\n",
    "plt.figure(figsize=(7,5))\n",
    "sns.barplot(data=df_rating, x='Mean Rating', y='Name', palette='RdBu')\n",
    "plt.title('Top Rated 10 Restaurants')"
   ]
  },
  {
   "cell_type": "code",
   "execution_count": 48,
   "metadata": {},
   "outputs": [],
   "source": [
    "def get_top_words(column, top_nu_of_words, nu_of_word):\n",
    "\n",
    "    vec = CountVectorizer(ngram_range=nu_of_word, stop_words='english')\n",
    "\n",
    "    bag_of_words = vec.fit_transform(column)\n",
    "\n",
    "    sum_words = bag_of_words.sum(axis=0)\n",
    "\n",
    "    words_freq = [(word, sum_words[0, idx])\n",
    "                  for word, idx in vec.vocabulary_.items()]\n",
    "\n",
    "    words_freq = sorted(words_freq, key=lambda x: x[1], reverse=True)\n",
    "\n",
    "    return words_freq[:top_nu_of_words]\n"
   ]
  },
  {
   "cell_type": "code",
   "execution_count": 91,
   "metadata": {},
   "outputs": [
    {
     "data": {
      "text/plain": [
       "Text(0.5, 1.0, 'Word Couple Frequency for Cuisines')"
      ]
     },
     "execution_count": 91,
     "metadata": {},
     "output_type": "execute_result"
    },
    {
     "data": {
      "image/png": "[encoded data removed]",
      "text/plain": [
       "<Figure size 700x600 with 1 Axes>"
      ]
     },
     "metadata": {},
     "output_type": "display_data"
    }
   ],
   "source": [
    "# Top 15 two word frequencies for Cuisines\n",
    "lst = get_top_words(resturant_df['Cuisines'], 15, (1, 1))\n",
    "df_words = pd.DataFrame(lst, columns=['Word', 'count'])\n",
    "plt.figure(figsize=(7, 6))\n",
    "sns.barplot(data=df_words, x='count', y='Word')\n",
    "plt.title('Word Couple Frequency for Cuisines')"
   ]
  },
  {
   "cell_type": "code",
   "execution_count": null,
   "metadata": {},
   "outputs": [],
   "source": []
  },
  {
   "cell_type": "code",
   "execution_count": 92,
   "metadata": {},
   "outputs": [
    {
     "data": {
      "text/html": [
       "<div>\n",
       "<style scoped>\n",
       "    .dataframe tbody tr th:only-of-type {\n",
       "        vertical-align: middle;\n",
       "    }\n",
       "\n",
       "    .dataframe tbody tr th {\n",
       "        vertical-align: top;\n",
       "    }\n",
       "\n",
       "    .dataframe thead th {\n",
       "        text-align: right;\n",
       "    }\n",
       "</style>\n",
       "<table border=\"1\" class=\"dataframe\">\n",
       "  <thead>\n",
       "    <tr style=\"text-align: right;\">\n",
       "      <th></th>\n",
       "      <th>U_id</th>\n",
       "      <th>Id</th>\n",
       "      <th>Address</th>\n",
       "      <th>Name</th>\n",
       "      <th>Online_Order</th>\n",
       "      <th>Book_Table</th>\n",
       "      <th>Rating</th>\n",
       "      <th>Location</th>\n",
       "      <th>Restaurant_Type</th>\n",
       "      <th>Cuisines</th>\n",
       "      <th>cost1</th>\n",
       "      <th>cost2</th>\n",
       "      <th>cost3</th>\n",
       "      <th>cost4</th>\n",
       "      <th>cost5</th>\n",
       "      <th>type</th>\n",
       "      <th>city</th>\n",
       "      <th>Category_Type</th>\n",
       "      <th>Mean Rating</th>\n",
       "    </tr>\n",
       "  </thead>\n",
       "  <tbody>\n",
       "    <tr>\n",
       "      <th>93</th>\n",
       "      <td>94</td>\n",
       "      <td>30</td>\n",
       "      <td>Shop 19, Crown Gardens, Main University Rd, Bl...</td>\n",
       "      <td>CO2 The Soda Shop</td>\n",
       "      <td>Yes</td>\n",
       "      <td>No</td>\n",
       "      <td>5.0</td>\n",
       "      <td>Main University Rd, Block 4 Gulistan-e-Johar</td>\n",
       "      <td>Refreshing Point</td>\n",
       "      <td>Soda and Juices</td>\n",
       "      <td>200.0</td>\n",
       "      <td>400.0</td>\n",
       "      <td>600.0</td>\n",
       "      <td>800.0</td>\n",
       "      <td>1000.0</td>\n",
       "      <td>Drink Shop</td>\n",
       "      <td>Karachi</td>\n",
       "      <td>Family</td>\n",
       "      <td>5.0</td>\n",
       "    </tr>\n",
       "    <tr>\n",
       "      <th>64</th>\n",
       "      <td>65</td>\n",
       "      <td>20</td>\n",
       "      <td>Street #2, Block H North Nazimabad Town, Karac...</td>\n",
       "      <td>Tasty Foods</td>\n",
       "      <td>No</td>\n",
       "      <td>No</td>\n",
       "      <td>5.0</td>\n",
       "      <td>Block H North Nazimabad Town</td>\n",
       "      <td>Lunch,\\nQuick bites</td>\n",
       "      <td>FastFood</td>\n",
       "      <td>950.0</td>\n",
       "      <td>1800.0</td>\n",
       "      <td>2750.0</td>\n",
       "      <td>3599.0</td>\n",
       "      <td>4550.0</td>\n",
       "      <td>Lunch</td>\n",
       "      <td>Karachi</td>\n",
       "      <td>Couple</td>\n",
       "      <td>5.0</td>\n",
       "    </tr>\n",
       "  </tbody>\n",
       "</table>\n",
       "</div>"
      ],
      "text/plain": [
       "    U_id  Id                                            Address  \\\n",
       "93    94  30  Shop 19, Crown Gardens, Main University Rd, Bl...   \n",
       "64    65  20  Street #2, Block H North Nazimabad Town, Karac...   \n",
       "\n",
       "                 Name Online_Order Book_Table  Rating  \\\n",
       "93  CO2 The Soda Shop          Yes         No     5.0   \n",
       "64        Tasty Foods           No         No     5.0   \n",
       "\n",
       "                                        Location      Restaurant_Type  \\\n",
       "93  Main University Rd, Block 4 Gulistan-e-Johar     Refreshing Point   \n",
       "64                  Block H North Nazimabad Town  Lunch,\\nQuick bites   \n",
       "\n",
       "           Cuisines  cost1   cost2   cost3   cost4   cost5        type  \\\n",
       "93  Soda and Juices  200.0   400.0   600.0   800.0  1000.0  Drink Shop   \n",
       "64         FastFood  950.0  1800.0  2750.0  3599.0  4550.0       Lunch   \n",
       "\n",
       "       city Category_Type  Mean Rating  \n",
       "93  Karachi        Family          5.0  \n",
       "64  Karachi        Couple          5.0  "
      ]
     },
     "execution_count": 92,
     "metadata": {},
     "output_type": "execute_result"
    }
   ],
   "source": [
    "df_rating.head(2)"
   ]
  },
  {
   "cell_type": "code",
   "execution_count": 93,
   "metadata": {},
   "outputs": [],
   "source": [
    "Id = resturant_df.Id.nunique()\n",
    "U_id =resturant_df.U_id.nunique()"
   ]
  },
  {
   "cell_type": "code",
   "execution_count": 99,
   "metadata": {},
   "outputs": [
    {
     "ename": "AttributeError",
     "evalue": "module 'tensorflow' has no attribute 'layers'",
     "output_type": "error",
     "traceback": [
      "\u001b[1;31m---------------------------------------------------------------------------\u001b[0m",
      "\u001b[1;31mAttributeError\u001b[0m                            Traceback (most recent call last)",
      "Cell \u001b[1;32mIn [99], line 2\u001b[0m\n\u001b[0;32m      1\u001b[0m \u001b[39mimport\u001b[39;00m \u001b[39mtensorflow\u001b[39;00m \u001b[39mas\u001b[39;00m \u001b[39mtf\u001b[39;00m\n\u001b[1;32m----> 2\u001b[0m input__ \u001b[39m=\u001b[39m tf\u001b[39m.\u001b[39;49mlayers\u001b[39m.\u001b[39mInput(shape\u001b[39m=\u001b[39m[\u001b[39m1\u001b[39m])\n\u001b[0;32m      3\u001b[0m embed \u001b[39m=\u001b[39m tf\u001b[39m.\u001b[39mlayers\u001b[39m.\u001b[39mEmbedding(Id \u001b[39m+\u001b[39m \u001b[39m1\u001b[39m, \u001b[39m15\u001b[39m)(input__)\n\u001b[0;32m      4\u001b[0m out \u001b[39m=\u001b[39m tf\u001b[39m.\u001b[39mlayers\u001b[39m.\u001b[39mFlatten()(embed)\n",
      "\u001b[1;31mAttributeError\u001b[0m: module 'tensorflow' has no attribute 'layers'"
     ]
    }
   ],
   "source": [
    "import tensorflow as tf\n",
    "input__ = tf.layers.Input(shape=[1])\n",
    "embed = tf.layers.Embedding(Id + 1, 15)(input__)\n",
    "out = tf.layers.Flatten()(embed)\n",
    "\n",
    "#user input network\n",
    "input_ = tf.layers.Input(shape=[1])\n",
    "embed_ = tf.layers.Embedding(U_id+ 1, 15)(input_)\n",
    "_out = tf.layers.Flatten()(embed_)\n",
    "\n",
    "conc_layer = tf.layers.Concatenate()([out, _out])\n",
    "x = tf.layers.Dense(128, activation='relu')(conc_layer)\n",
    "x_out = x = tf.layers.Dense(1, activation='relu')(x)\n",
    "model = tf.Model([input__, input_], x_out)\n"
   ]
  },
  {
   "cell_type": "code",
   "execution_count": null,
   "metadata": {},
   "outputs": [
    {
     "ename": "NameError",
     "evalue": "name 'tf' is not defined",
     "output_type": "error",
     "traceback": [
      "\u001b[1;31m---------------------------------------------------------------------------\u001b[0m",
      "\u001b[1;31mNameError\u001b[0m                                 Traceback (most recent call last)",
      "Cell \u001b[1;32mIn [95], line 1\u001b[0m\n\u001b[1;32m----> 1\u001b[0m opt \u001b[39m=\u001b[39m tf\u001b[39m.\u001b[39moptimizers\u001b[39m.\u001b[39mAdam(learning_rate\u001b[39m=\u001b[39m\u001b[39m0.001\u001b[39m)\n\u001b[0;32m      2\u001b[0m model\u001b[39m.\u001b[39mcompile(optimizer\u001b[39m=\u001b[39mopt, loss\u001b[39m=\u001b[39m\u001b[39m'\u001b[39m\u001b[39mmean_squared_error\u001b[39m\u001b[39m'\u001b[39m)\n\u001b[0;32m      3\u001b[0m model\u001b[39m.\u001b[39msummary()\n",
      "\u001b[1;31mNameError\u001b[0m: name 'tf' is not defined"
     ]
    }
   ],
   "source": [
    "opt = tf.optimizers.Adam(learning_rate=0.001)\n",
    "model.compile(optimizer=opt, loss='mean_squared_error')\n",
    "model.summary()\n"
   ]
  },
  {
   "cell_type": "code",
   "execution_count": null,
   "metadata": {},
   "outputs": [
    {
     "ename": "NameError",
     "evalue": "name 'model' is not defined",
     "output_type": "error",
     "traceback": [
      "\u001b[1;31m---------------------------------------------------------------------------\u001b[0m",
      "\u001b[1;31mNameError\u001b[0m                                 Traceback (most recent call last)",
      "Cell \u001b[1;32mIn [96], line 1\u001b[0m\n\u001b[1;32m----> 1\u001b[0m hist \u001b[39m=\u001b[39m model\u001b[39m.\u001b[39mfit([X_train\u001b[39m.\u001b[39mId, X_train\u001b[39m.\u001b[39mU_id], X_train\u001b[39m.\u001b[39mRating,\n\u001b[0;32m      2\u001b[0m                  batch_size\u001b[39m=\u001b[39m\u001b[39m64\u001b[39m,\n\u001b[0;32m      3\u001b[0m                  epochs\u001b[39m=\u001b[39m\u001b[39m5\u001b[39m,\n\u001b[0;32m      4\u001b[0m                  verbose\u001b[39m=\u001b[39m\u001b[39m1\u001b[39m,\n\u001b[0;32m      5\u001b[0m                  validation_data\u001b[39m=\u001b[39m([X_test\u001b[39m.\u001b[39mId, X_test\u001b[39m.\u001b[39mU_id], X_test\u001b[39m.\u001b[39mRating))\n",
      "\u001b[1;31mNameError\u001b[0m: name 'model' is not defined"
     ]
    }
   ],
   "source": [
    "hist = model.fit([X_train.Id, X_train.U_id], X_train.Rating,\n",
    "                 batch_size=64,\n",
    "                 epochs=5,\n",
    "                 verbose=1,\n",
    "                 validation_data=([X_test.Id, X_test.U_id], X_test.Rating))\n"
   ]
  },
  {
   "cell_type": "code",
   "execution_count": null,
   "metadata": {},
   "outputs": [
    {
     "ename": "NameError",
     "evalue": "name 'hist' is not defined",
     "output_type": "error",
     "traceback": [
      "\u001b[1;31m---------------------------------------------------------------------------\u001b[0m",
      "\u001b[1;31mNameError\u001b[0m                                 Traceback (most recent call last)",
      "Cell \u001b[1;32mIn [97], line 1\u001b[0m\n\u001b[1;32m----> 1\u001b[0m train_loss \u001b[39m=\u001b[39m hist\u001b[39m.\u001b[39mhistory[\u001b[39m'\u001b[39m\u001b[39mloss\u001b[39m\u001b[39m'\u001b[39m]\n\u001b[0;32m      2\u001b[0m val_loss \u001b[39m=\u001b[39m hist\u001b[39m.\u001b[39mhistory[\u001b[39m'\u001b[39m\u001b[39mval_loss\u001b[39m\u001b[39m'\u001b[39m]\n\u001b[0;32m      3\u001b[0m plt\u001b[39m.\u001b[39mplot(train_loss, color\u001b[39m=\u001b[39m\u001b[39m'\u001b[39m\u001b[39mr\u001b[39m\u001b[39m'\u001b[39m, label\u001b[39m=\u001b[39m\u001b[39m'\u001b[39m\u001b[39mTrain Loss\u001b[39m\u001b[39m'\u001b[39m)\n",
      "\u001b[1;31mNameError\u001b[0m: name 'hist' is not defined"
     ]
    }
   ],
   "source": [
    "train_loss = hist.history['loss']\n",
    "val_loss = hist.history['val_loss']\n",
    "plt.plot(train_loss, color='r', label='Train Loss')\n",
    "plt.plot(val_loss, color='b', label='Validation Loss')\n",
    "plt.title(\"Train and Validation Loss Curve\")\n",
    "plt.legend()\n",
    "plt.show()\n"
   ]
  },
  {
   "cell_type": "code",
   "execution_count": null,
   "metadata": {},
   "outputs": [],
   "source": [
    "#save the model\n",
    "model.save('Resturant.model', save_format=\"h5\")\n"
   ]
  },
  {
   "cell_type": "code",
   "execution_count": null,
   "metadata": {},
   "outputs": [
    {
     "data": {
      "text/html": [
       "<div>\n",
       "<style scoped>\n",
       "    .dataframe tbody tr th:only-of-type {\n",
       "        vertical-align: middle;\n",
       "    }\n",
       "\n",
       "    .dataframe tbody tr th {\n",
       "        vertical-align: top;\n",
       "    }\n",
       "\n",
       "    .dataframe thead th {\n",
       "        text-align: right;\n",
       "    }\n",
       "</style>\n",
       "<table border=\"1\" class=\"dataframe\">\n",
       "  <thead>\n",
       "    <tr style=\"text-align: right;\">\n",
       "      <th></th>\n",
       "      <th>U_id</th>\n",
       "      <th>Id</th>\n",
       "      <th>Address</th>\n",
       "      <th>Name</th>\n",
       "      <th>Online_Order</th>\n",
       "      <th>Book_Table</th>\n",
       "      <th>Rating</th>\n",
       "      <th>Location</th>\n",
       "      <th>Restaurant_Type</th>\n",
       "      <th>Cuisines</th>\n",
       "      <th>cost1</th>\n",
       "      <th>cost2</th>\n",
       "      <th>cost3</th>\n",
       "      <th>cost4</th>\n",
       "      <th>cost5</th>\n",
       "      <th>type</th>\n",
       "      <th>city</th>\n",
       "      <th>Category_Type</th>\n",
       "      <th>Mean Rating</th>\n",
       "    </tr>\n",
       "  </thead>\n",
       "  <tbody>\n",
       "    <tr>\n",
       "      <th>0</th>\n",
       "      <td>1</td>\n",
       "      <td>1</td>\n",
       "      <td>10/A, M.A.C.H.S? Main Shahrah-e-Faisal Rd, Moh...</td>\n",
       "      <td>LalQila Restaurant Karachi</td>\n",
       "      <td>Yes</td>\n",
       "      <td>Yes</td>\n",
       "      <td>4.2</td>\n",
       "      <td>Mohammad Ali Society</td>\n",
       "      <td>Buffet,\\nhi-tea</td>\n",
       "      <td>Seafood</td>\n",
       "      <td>3500.0</td>\n",
       "      <td>7000.0</td>\n",
       "      <td>10000.0</td>\n",
       "      <td>14000.0</td>\n",
       "      <td>18000.0</td>\n",
       "      <td>\\nDinner</td>\n",
       "      <td>Karachi</td>\n",
       "      <td>Friends</td>\n",
       "      <td>2.33</td>\n",
       "    </tr>\n",
       "    <tr>\n",
       "      <th>1</th>\n",
       "      <td>2</td>\n",
       "      <td>2</td>\n",
       "      <td>10/A, M.A.C.H.S? Main Shahrah-e-Faisal Rd, Moh...</td>\n",
       "      <td>LalQila Restaurant Karachi</td>\n",
       "      <td>Yes</td>\n",
       "      <td>Yes</td>\n",
       "      <td>4.2</td>\n",
       "      <td>Mohammad Ali Society</td>\n",
       "      <td>Buffet,\\nhi-tea</td>\n",
       "      <td>Continental</td>\n",
       "      <td>3500.0</td>\n",
       "      <td>7000.0</td>\n",
       "      <td>10000.0</td>\n",
       "      <td>14000.0</td>\n",
       "      <td>18000.0</td>\n",
       "      <td>Lunch</td>\n",
       "      <td>Karachi</td>\n",
       "      <td>Friends</td>\n",
       "      <td>2.33</td>\n",
       "    </tr>\n",
       "  </tbody>\n",
       "</table>\n",
       "</div>"
      ],
      "text/plain": [
       "   U_id  Id                                            Address  \\\n",
       "0     1   1  10/A, M.A.C.H.S? Main Shahrah-e-Faisal Rd, Moh...   \n",
       "1     2   2  10/A, M.A.C.H.S? Main Shahrah-e-Faisal Rd, Moh...   \n",
       "\n",
       "                         Name Online_Order Book_Table  Rating  \\\n",
       "0  LalQila Restaurant Karachi          Yes        Yes     4.2   \n",
       "1  LalQila Restaurant Karachi          Yes        Yes     4.2   \n",
       "\n",
       "               Location  Restaurant_Type     Cuisines   cost1   cost2  \\\n",
       "0  Mohammad Ali Society  Buffet,\\nhi-tea      Seafood  3500.0  7000.0   \n",
       "1  Mohammad Ali Society  Buffet,\\nhi-tea  Continental  3500.0  7000.0   \n",
       "\n",
       "     cost3    cost4    cost5      type     city Category_Type  Mean Rating  \n",
       "0  10000.0  14000.0  18000.0  \\nDinner  Karachi       Friends         2.33  \n",
       "1  10000.0  14000.0  18000.0     Lunch  Karachi       Friends         2.33  "
      ]
     },
     "execution_count": 21,
     "metadata": {},
     "output_type": "execute_result"
    }
   ],
   "source": [
    "resturant_df.head(2)"
   ]
  },
  {
   "cell_type": "code",
   "execution_count": null,
   "metadata": {},
   "outputs": [],
   "source": []
  },
  {
   "cell_type": "code",
   "execution_count": null,
   "metadata": {},
   "outputs": [],
   "source": []
  },
  {
   "cell_type": "code",
   "execution_count": null,
   "metadata": {},
   "outputs": [],
   "source": [
    "resturant_df.set_index('Cuisines', inplace=True)\n",
    "indices = pd.Series(resturant_df.index)\n",
    "\n",
    "# Creating tf-idf matrix\n",
    "tfidf = TfidfVectorizer(analyzer='word', ngram_range=(1, 2), min_df=0, stop_words='english')\n",
    "tfidf_matrix = tfidf.fit_transform(resturant_df['Category_Type'])\n",
    "\n",
    "cosine_similarities = linear_kernel(tfidf_matrix, tfidf_matrix)\n"
   ]
  },
  {
   "cell_type": "code",
   "execution_count": null,
   "metadata": {},
   "outputs": [
    {
     "name": "stdout",
     "output_type": "stream",
     "text": [
      "Cuisines Category you want to eat...!!\n",
      "\n",
      "Seafood\n",
      "Your Budget Please..!!\n",
      "\n",
      "3000\n",
      "Total Persons..!!\n",
      "\n",
      "2\n"
     ]
    }
   ],
   "source": [
    "\n",
    "print(\"Cuisines Category you want to eat...!!\\n\")\n",
    "cuisines_=input()\n",
    "print(cuisines_)\n",
    "print(\"Your Budget Please..!!\\n\")\n",
    "budget=int(input())\n",
    "print(budget)\n",
    "print(\"Total Persons..!!\\n\")\n",
    "Num=int(input())\n",
    "print(Num)\n",
    "\n",
    "\n"
   ]
  },
  {
   "cell_type": "code",
   "execution_count": null,
   "metadata": {},
   "outputs": [],
   "source": [
    "def recommend_(cuisines, cosine_similarities=cosine_similarities):\n",
    "\n",
    "    recommend_restaurant = []\n",
    "\n",
    "    # Find the index of the hotel entered\n",
    "    idx = indices[indices == cuisines].index[0]\n",
    "\n",
    "    # Find the restaurants with a similar cosine-sim value and order them from bigges number\n",
    "    score_series = pd.Series(\n",
    "        cosine_similarities[idx]).sort_values(ascending=False)\n",
    "\n",
    "    # Extract top 30 restaurant indexes with a similar cosine-sim value\n",
    "    top30_indexes = list(score_series.iloc[0:31].index)\n",
    "\n",
    "    # Names of the top 30 restaurants\n",
    "    for each in top30_indexes:\n",
    "        recommend_restaurant.append(list(resturant_df.index)[each])\n",
    "\n",
    "    if Num <= 2:\n",
    "        cost = resturant_df[\"cost1\"]\n",
    "        # Creating the new data set to show similar restaurants\n",
    "        df_new = pd.DataFrame(\n",
    "            columns=['Name', 'Mean Rating', 'cost1'])\n",
    "\n",
    "        # Create the top 30 similar restaurants with some of their columns\n",
    "        for each in recommend_restaurant:\n",
    "            df_new = df_new.append(pd.DataFrame(\n",
    "                resturant_df[['Name', 'Mean Rating', 'cost1']][resturant_df.index == each].sample()))\n",
    "\n",
    "        # Drop the same named restaurants and sort only the top 10 by the highest rating\n",
    "        df_new = df_new.drop_duplicates(\n",
    "            subset=['Name', 'Mean Rating', 'cost1'], keep=False)\n",
    "\n",
    "    elif Num <= 4:\n",
    "        cost = resturant_df[\"cost2\"]\n",
    "        # Creating the new data set to show similar restaurants\n",
    "        df_new = pd.DataFrame(columns=['Name', 'Mean Rating', 'cost2'])\n",
    "\n",
    "        # Create the top 30 similar restaurants with some of their columns\n",
    "        for each in recommend_restaurant:\n",
    "            df_new = df_new.append(pd.DataFrame(\n",
    "                resturant_df[['Name', 'Mean Rating','cost2']][resturant_df.index == each].sample()))\n",
    "\n",
    "        # Drop the same named restaurants and sort only the top 10 by the highest rating\n",
    "        df_new = df_new.drop_duplicates(\n",
    "            subset=['Name', 'Mean Rating','cost2'], keep=False)\n",
    "        \n",
    "    elif Num <= 6:\n",
    "        cost = resturant_df[\"cost3\"]\n",
    "        # Creating the new data set to show similar restaurants\n",
    "        df_new = pd.DataFrame(columns=['Name', 'Mean Rating', 'cost3'])\n",
    "\n",
    "        # Create the top 30 similar restaurants with some of their columns\n",
    "        for each in recommend_restaurant:\n",
    "            df_new = df_new.append(pd.DataFrame(\n",
    "                resturant_df[['Name', 'Mean Rating', 'cost3']][resturant_df.index == each].sample()))\n",
    "\n",
    "        # Drop the same named restaurants and sort only the top 10 by the highest rating\n",
    "        df_new = df_new.drop_duplicates(\n",
    "            subset=['Name', 'Mean Rating', 'cost3'], keep=False)\n",
    "        \n",
    "    elif Num <= 8:\n",
    "        cost = resturant_df[\"cost4\"]\n",
    "        # Creating the new data set to show similar restaurants\n",
    "        df_new = pd.DataFrame(columns=['Name', 'Mean Rating', 'cost4'])\n",
    "\n",
    "        # Create the top 30 similar restaurants with some of their columns\n",
    "        for each in recommend_restaurant:\n",
    "            df_new = df_new.append(pd.DataFrame(\n",
    "                resturant_df[['Name', 'Mean Rating', 'cost4']][resturant_df.index == each].sample()))\n",
    "\n",
    "        # Drop the same named restaurants and sort only the top 10 by the highest rating\n",
    "        df_new = df_new.drop_duplicates(\n",
    "            subset=['Name', 'Mean Rating', 'cost4'], keep=False)\n",
    "\n",
    "    elif Num >= 9:\n",
    "        cost = resturant_df[\"cost5\"]\n",
    "        # Creating the new data set to show similar restaurants\n",
    "        df_new = pd.DataFrame(\n",
    "            columns=['Name', 'Mean Rating', 'cost5'])\n",
    "\n",
    "        # Create the top 30 similar restaurants with some of their columns\n",
    "        for each in recommend_restaurant:\n",
    "            df_new = df_new.append(pd.DataFrame(\n",
    "                resturant_df[['Name', 'Mean Rating', 'cost5']][resturant_df.index == each].sample()))\n",
    "\n",
    "        # Drop the same named restaurants and sort only the top 10 by the highest rating\n",
    "        df_new = df_new.drop_duplicates(\n",
    "            subset=['Name', 'Mean Rating', 'cost5'], keep=False)\n",
    "\n",
    "\n",
    "    df_new = df_new.sort_values(by='Mean Rating', ascending=False).head(10)\n",
    "\n",
    "    print('TOP %s RESTAURANTS HAVING %s WITH SIMILAR REVIEWS: ' %\n",
    "          (str(len(df_new)), cuisines))\n",
    "\n",
    "    return df_new"
   ]
  },
  {
   "cell_type": "code",
   "execution_count": null,
   "metadata": {},
   "outputs": [
    {
     "name": "stdout",
     "output_type": "stream",
     "text": [
      "TOP 6 RESTAURANTS HAVING Seafood WITH SIMILAR REVIEWS: \n"
     ]
    },
    {
     "data": {
      "text/html": [
       "<div>\n",
       "<style scoped>\n",
       "    .dataframe tbody tr th:only-of-type {\n",
       "        vertical-align: middle;\n",
       "    }\n",
       "\n",
       "    .dataframe tbody tr th {\n",
       "        vertical-align: top;\n",
       "    }\n",
       "\n",
       "    .dataframe thead th {\n",
       "        text-align: right;\n",
       "    }\n",
       "</style>\n",
       "<table border=\"1\" class=\"dataframe\">\n",
       "  <thead>\n",
       "    <tr style=\"text-align: right;\">\n",
       "      <th></th>\n",
       "      <th>Name</th>\n",
       "      <th>Mean Rating</th>\n",
       "      <th>cost1</th>\n",
       "    </tr>\n",
       "  </thead>\n",
       "  <tbody>\n",
       "    <tr>\n",
       "      <th>Dessert</th>\n",
       "      <td>Asia Live</td>\n",
       "      <td>2.67</td>\n",
       "      <td>5600.0</td>\n",
       "    </tr>\n",
       "    <tr>\n",
       "      <th>BBQ</th>\n",
       "      <td>Studio 7teas</td>\n",
       "      <td>2.67</td>\n",
       "      <td>1850.0</td>\n",
       "    </tr>\n",
       "    <tr>\n",
       "      <th>Pakistani</th>\n",
       "      <td>SKY BBQ</td>\n",
       "      <td>2.33</td>\n",
       "      <td>2650.0</td>\n",
       "    </tr>\n",
       "    <tr>\n",
       "      <th>FastFood</th>\n",
       "      <td>FLOC - for the love of coffee</td>\n",
       "      <td>2.00</td>\n",
       "      <td>2250.0</td>\n",
       "    </tr>\n",
       "    <tr>\n",
       "      <th>Dessert</th>\n",
       "      <td>Chaupal Buffet</td>\n",
       "      <td>1.33</td>\n",
       "      <td>2000.0</td>\n",
       "    </tr>\n",
       "    <tr>\n",
       "      <th>FastFood</th>\n",
       "      <td>Cafe Bistrovia</td>\n",
       "      <td>1.33</td>\n",
       "      <td>1300.0</td>\n",
       "    </tr>\n",
       "  </tbody>\n",
       "</table>\n",
       "</div>"
      ],
      "text/plain": [
       "                                    Name  Mean Rating   cost1\n",
       "Dessert                        Asia Live         2.67  5600.0\n",
       "BBQ                         Studio 7teas         2.67  1850.0\n",
       "Pakistani                        SKY BBQ         2.33  2650.0\n",
       "FastFood   FLOC - for the love of coffee         2.00  2250.0\n",
       "Dessert                   Chaupal Buffet         1.33  2000.0\n",
       "FastFood                  Cafe Bistrovia         1.33  1300.0"
      ]
     },
     "execution_count": 27,
     "metadata": {},
     "output_type": "execute_result"
    }
   ],
   "source": [
    "recommend_(cuisines_)"
   ]
  },
  {
   "cell_type": "code",
   "execution_count": 2,
   "metadata": {},
   "outputs": [],
   "source": [
    "import pandas as pd\n",
    "from sklearn.model_selection import train_test_split\n",
    "from sklearn.datasets import load_iris"
   ]
  },
  {
   "cell_type": "code",
   "execution_count": 115,
   "metadata": {},
   "outputs": [
    {
     "ename": "ValueError",
     "evalue": "With n_samples=1, test_size=0.2 and train_size=None, the resulting train set will be empty. Adjust any of the aforementioned parameters.",
     "output_type": "error",
     "traceback": [
      "\u001b[1;31m---------------------------------------------------------------------------\u001b[0m",
      "\u001b[1;31mValueError\u001b[0m                                Traceback (most recent call last)",
      "Cell \u001b[1;32mIn [115], line 28\u001b[0m\n\u001b[0;32m     25\u001b[0m X \u001b[39m=\u001b[39m[dataset[\u001b[39m'\u001b[39m\u001b[39mId\u001b[39m\u001b[39m'\u001b[39m]]\n\u001b[0;32m     26\u001b[0m y \u001b[39m=\u001b[39m [dataset[\u001b[39m'\u001b[39m\u001b[39mRating\u001b[39m\u001b[39m'\u001b[39m]]\n\u001b[1;32m---> 28\u001b[0m X_train, X_test, y_train, y_test \u001b[39m=\u001b[39m train_test_split(\n\u001b[0;32m     29\u001b[0m     X, y, test_size\u001b[39m=\u001b[39;49m\u001b[39m0.2\u001b[39;49m, random_state\u001b[39m=\u001b[39;49m\u001b[39m20\u001b[39;49m)\n\u001b[0;32m     30\u001b[0m \u001b[39m# importing libraries\u001b[39;00m\n\u001b[0;32m     31\u001b[0m warnings\u001b[39m.\u001b[39mfilterwarnings(\u001b[39m\"\u001b[39m\u001b[39mignore\u001b[39m\u001b[39m\"\u001b[39m)\n",
      "File \u001b[1;32mc:\\Users\\Ayesha Anwer\\AppData\\Local\\Programs\\Python\\Python310\\lib\\site-packages\\sklearn\\model_selection\\_split.py:2433\u001b[0m, in \u001b[0;36mtrain_test_split\u001b[1;34m(test_size, train_size, random_state, shuffle, stratify, *arrays)\u001b[0m\n\u001b[0;32m   2430\u001b[0m arrays \u001b[39m=\u001b[39m indexable(\u001b[39m*\u001b[39marrays)\n\u001b[0;32m   2432\u001b[0m n_samples \u001b[39m=\u001b[39m _num_samples(arrays[\u001b[39m0\u001b[39m])\n\u001b[1;32m-> 2433\u001b[0m n_train, n_test \u001b[39m=\u001b[39m _validate_shuffle_split(\n\u001b[0;32m   2434\u001b[0m     n_samples, test_size, train_size, default_test_size\u001b[39m=\u001b[39;49m\u001b[39m0.25\u001b[39;49m\n\u001b[0;32m   2435\u001b[0m )\n\u001b[0;32m   2437\u001b[0m \u001b[39mif\u001b[39;00m shuffle \u001b[39mis\u001b[39;00m \u001b[39mFalse\u001b[39;00m:\n\u001b[0;32m   2438\u001b[0m     \u001b[39mif\u001b[39;00m stratify \u001b[39mis\u001b[39;00m \u001b[39mnot\u001b[39;00m \u001b[39mNone\u001b[39;00m:\n",
      "File \u001b[1;32mc:\\Users\\Ayesha Anwer\\AppData\\Local\\Programs\\Python\\Python310\\lib\\site-packages\\sklearn\\model_selection\\_split.py:2111\u001b[0m, in \u001b[0;36m_validate_shuffle_split\u001b[1;34m(n_samples, test_size, train_size, default_test_size)\u001b[0m\n\u001b[0;32m   2108\u001b[0m n_train, n_test \u001b[39m=\u001b[39m \u001b[39mint\u001b[39m(n_train), \u001b[39mint\u001b[39m(n_test)\n\u001b[0;32m   2110\u001b[0m \u001b[39mif\u001b[39;00m n_train \u001b[39m==\u001b[39m \u001b[39m0\u001b[39m:\n\u001b[1;32m-> 2111\u001b[0m     \u001b[39mraise\u001b[39;00m \u001b[39mValueError\u001b[39;00m(\n\u001b[0;32m   2112\u001b[0m         \u001b[39m\"\u001b[39m\u001b[39mWith n_samples=\u001b[39m\u001b[39m{}\u001b[39;00m\u001b[39m, test_size=\u001b[39m\u001b[39m{}\u001b[39;00m\u001b[39m and train_size=\u001b[39m\u001b[39m{}\u001b[39;00m\u001b[39m, the \u001b[39m\u001b[39m\"\u001b[39m\n\u001b[0;32m   2113\u001b[0m         \u001b[39m\"\u001b[39m\u001b[39mresulting train set will be empty. Adjust any of the \u001b[39m\u001b[39m\"\u001b[39m\n\u001b[0;32m   2114\u001b[0m         \u001b[39m\"\u001b[39m\u001b[39maforementioned parameters.\u001b[39m\u001b[39m\"\u001b[39m\u001b[39m.\u001b[39mformat(n_samples, test_size, train_size)\n\u001b[0;32m   2115\u001b[0m     )\n\u001b[0;32m   2117\u001b[0m \u001b[39mreturn\u001b[39;00m n_train, n_test\n",
      "\u001b[1;31mValueError\u001b[0m: With n_samples=1, test_size=0.2 and train_size=None, the resulting train set will be empty. Adjust any of the aforementioned parameters."
     ]
    }
   ],
   "source": [
    "import pickle\n",
    "from sklearn.ensemble import VotingClassifier\n",
    "from sklearn.svm import SVC\n",
    "from sklearn.neighbors import KNeighborsClassifier\n",
    "from sklearn.ensemble import RandomForestClassifier, RandomForestRegressor\n",
    "from sklearn.metrics import multilabel_confusion_matrix\n",
    "from sklearn import metrics\n",
    "from sklearn import tree\n",
    "from sklearn.model_selection import train_test_split\n",
    "import warnings\n",
    "import matplotlib.pyplot as plt\n",
    "import numpy as np\n",
    "import pandas as pd\n",
    "import seaborn as sns\n",
    "import hvplot.pandas\n",
    "from sklearn import preprocessing\n",
    "from sklearn.feature_extraction import DictVectorizer\n",
    "from io import StringIO\n",
    "\n",
    "\n",
    "dataset = pd.read_csv('E:\\ResturantPredictor\\Restaurants_DataSet.csv')\n",
    "\n",
    "label_encoder = preprocessing.LabelEncoder()\n",
    "\n",
    "X =[dataset['Id']]\n",
    "y = [dataset['Rating']]\n",
    "\n",
    "X_train, X_test, y_train, y_test = train_test_split(\n",
    "    X, y, test_size=0.2, random_state=20)\n",
    "# importing libraries\n",
    "warnings.filterwarnings(\"ignore\")\n",
    "# Decision Tree\n",
    "modelDT = tree.DecisionTreeClassifier()\n",
    "resultDT = modelDT.fit(X_train, y_train)\n",
    "prediction_test = modelDT.predict(X_test)\n",
    "accuracyDT = metrics.accuracy_score(y_test, prediction_test)\n",
    "print()\n",
    "print (\"Model Accuracy (Decision Tree):\" \"\\n\", accuracyDT)"
   ]
  },
  {
   "cell_type": "code",
   "execution_count": null,
   "metadata": {},
   "outputs": [],
   "source": []
  },
  {
   "cell_type": "code",
   "execution_count": null,
   "metadata": {},
   "outputs": [],
   "source": []
  }
 ],
 "metadata": {
  "kernelspec": {
   "display_name": "Python 3",
   "language": "python",
   "name": "python3"
  },
  "language_info": {
   "codemirror_mode": {
    "name": "ipython",
    "version": 3
   },
   "file_extension": ".py",
   "mimetype": "text/x-python",
   "name": "python",
   "nbconvert_exporter": "python",
   "pygments_lexer": "ipython3",
   "version": "3.10.6"
  },
  "orig_nbformat": 4,
  "vscode": {
   "interpreter": {
    "hash": "771e103b10f077cb7923927414a94a6f2628aff6adbb2156f04411d5bcfce660"
   }
  }
 },
 "nbformat": 4,
 "nbformat_minor": 2
}
